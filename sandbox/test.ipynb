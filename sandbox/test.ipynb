{
 "cells": [
  {
   "cell_type": "code",
   "execution_count": 1,
   "metadata": {},
   "outputs": [],
   "source": [
    "import time\n",
    "import os\n",
    "import numba\n",
    "\n",
    "from coffea.nanoevents import BaseSchema\n",
    "\n",
    "import awkward as ak\n",
    "import numpy as np\n",
    "from coffea import processor, hist\n",
    "\n",
    "from coffea.nanoevents.methods import candidate\n",
    "ak.behavior.update(candidate.behavior)\n",
    "\n",
    "import mplhep\n",
    "import matplotlib.pyplot as plt\n",
    "plt.style.use(mplhep.style.CMS)"
   ]
  },
  {
   "cell_type": "code",
   "execution_count": 10,
   "metadata": {},
   "outputs": [],
   "source": [
    "muon_cols = ['Muon_charge', 'Muon_dxy', 'Muon_dxyErr', 'Muon_dz', 'Muon_dzErr', 'Muon_eta', 'Muon_isGlobal', 'Muon_mass',\n",
    "             'Muon_phi', 'Muon_pt', 'Muon_ptErr', 'Muon_softId', 'Muon_vtxIdx', 'Muon_vtxFlag', 'Muon_simIdx']\n",
    "\n",
    "dimu_cols = ['Dimu_pt', 'Dimu_eta', 'Dimu_phi', 'Dimu_rap', 'Dimu_mass', 'Dimu_charge', 'Dimu_vtxIdx', 'Dimu_chi2', 'Dimu_dl',\n",
    "             'Dimu_dlErr', 'Dimu_dlSig', 'Dimu_cosphi', 'Dimu_x', 'Dimu_y', 'Dimu_z', 'Dimu_t1muIdx', 'Dimu_t2muIdx',]\n",
    "\n",
    "d0_cols = ['D0_pt', 'D0_eta', 'D0_phi', 'D0_rap', 'D0_mass12', 'D0_mass21', 'D0_vtxIdx', 'D0_chi2', 'D0_dl', 'D0_dlErr', 'D0_dlSig',\n",
    "           'D0_cosphi', 'D0_x', 'D0_y', 'D0_z', 'D0_hasMuon',\n",
    "           'D0_t1pt', 'D0_t1eta', 'D0_t1phi', 'D0_t1chindof', 'D0_t1nValid', 'D0_t1nPix', 'D0_t1dxy', 'D0_t1dz', 'D0_t1chg', \n",
    "           'D0_t2pt', 'D0_t2eta', 'D0_t2phi', 'D0_t2chindof', 'D0_t2nValid', 'D0_t2nPix', 'D0_t2dxy', 'D0_t2dz', 'D0_t2chg',]\n",
    "\n",
    "dstar_cols = ['Dstar_pt', 'Dstar_eta', 'Dstar_phi', 'Dstar_rap', 'Dstar_deltam', 'Dstar_deltamr', 'Dstar_vtxIdx', 'Dstar_hasMuon',\n",
    "              'Dstar_D0pt', 'Dstar_D0eta', 'Dstar_D0phi', 'Dstar_D0mass', 'Dstar_D0chi2', 'Dstar_D0dl', 'Dstar_D0dlErr',\n",
    "              'Dstar_D0dlSig', 'Dstar_D0cosphi', 'Dstar_D0x', 'Dstar_D0y', 'Dstar_D0z',\n",
    "              'Dstar_Kpt', 'Dstar_Keta', 'Dstar_Kphi', 'Dstar_KvtxIdx', 'Dstar_Kchindof', 'Dstar_KnValid', 'Dstar_KnPix', 'Dstar_Kdxy',\n",
    "              'Dstar_Kdz', 'Dstar_Kchg',\n",
    "              'Dstar_pipt', 'Dstar_pieta', 'Dstar_piphi', 'Dstar_pivtxIdx', 'Dstar_pichindof', 'Dstar_pinValid', 'Dstar_pinPix',\n",
    "              'Dstar_pidxy', 'Dstar_pidz', 'Dstar_pichg',\n",
    "              'Dstar_pispt', 'Dstar_piseta', 'Dstar_pisphi', 'Dstar_pisvtxIdx', 'Dstar_pischindof', 'Dstar_pisnValid', 'Dstar_pisnPix',\n",
    "              'Dstar_pisdxy', 'Dstar_pisdz', 'Dstar_simIdx', 'Dstar_D0simIdx']\n",
    "\n",
    "gen_part_cols = ['GenPart_eta', 'GenPart_genPartIdxMother', 'GenPart_mass', 'GenPart_pdgId', \"GenPart_phi\", \"GenPart_pt\", 'GenPart_status',\n",
    "                'GenPart_Id', 'GenPart_parpdgId', 'GenPart_sparpdgId', 'GenPart_numberOfDaughters', 'GenPart_nstchgdaug', 'GenPart_vx', \n",
    "                'GenPart_vy', 'GenPart_vz', 'GenPart_mvx', 'GenPart_mvy', 'GenPart_mvz', 'GenPart_recIdx']\n",
    "\n",
    "D0_PDG_MASS = 1.864\n",
    "\n",
    "def get_vars_dict(events, col_list):\n",
    "    dict = {}\n",
    "    col = ''\n",
    "    for c in col_list:\n",
    "        if c.startswith('Muon'):\n",
    "            col = c[5:]\n",
    "        elif c.startswith('Dimu'):\n",
    "            col = c[4:]\n",
    "            if col.startswith('_'): col = col[1:]\n",
    "        elif c.startswith('D0'):\n",
    "            col = c[2:]\n",
    "            if col.startswith('_'): col = col[1:]\n",
    "        elif c.startswith('Dstar'):\n",
    "            col = c[5:]\n",
    "            if col.startswith('_'): col = col[1:]\n",
    "        elif c.startswith('PVtx'):\n",
    "            col = c[5:]\n",
    "        elif c.startswith(\"GenPart\"):\n",
    "            col = c[8:]\n",
    "        else:\n",
    "            Exception('Not good!')\n",
    "\n",
    "        if col == 'x' or col == 'y' or col == 'z':\n",
    "            col = 'vtx_' + col\n",
    "\n",
    "        if len(events[c]) == 0:\n",
    "            dict[col] = np.array([])\n",
    "        else:\n",
    "            dict[col] = events[c]\n",
    "    return dict"
   ]
  },
  {
   "cell_type": "code",
   "execution_count": 3,
   "metadata": {},
   "outputs": [
    {
     "ename": "FileNotFoundError",
     "evalue": "[Errno 2] No such file or directory: '/eos/user/k/kmotaama/CRAB_UserFiles/UpsilonToMuMuDstarToD0pi/211111_200135/0000'",
     "output_type": "error",
     "traceback": [
      "\u001b[0;31m---------------------------------------------------------------------------\u001b[0m",
      "\u001b[0;31mFileNotFoundError\u001b[0m                         Traceback (most recent call last)",
      "\u001b[0;32m/var/folders/st/v3ntbhtj7x5cvm1pj69rgjjm0000gn/T/ipykernel_20561/3994087289.py\u001b[0m in \u001b[0;36m<module>\u001b[0;34m\u001b[0m\n\u001b[1;32m      5\u001b[0m \u001b[0mfiles\u001b[0m \u001b[0;34m=\u001b[0m \u001b[0;34m[\u001b[0m\u001b[0;34m]\u001b[0m\u001b[0;34m\u001b[0m\u001b[0;34m\u001b[0m\u001b[0m\n\u001b[1;32m      6\u001b[0m \u001b[0;32mfor\u001b[0m \u001b[0mpath\u001b[0m \u001b[0;32min\u001b[0m \u001b[0mpaths\u001b[0m\u001b[0;34m:\u001b[0m\u001b[0;34m\u001b[0m\u001b[0;34m\u001b[0m\u001b[0m\n\u001b[0;32m----> 7\u001b[0;31m     \u001b[0;32mwith\u001b[0m \u001b[0mos\u001b[0m\u001b[0;34m.\u001b[0m\u001b[0mscandir\u001b[0m\u001b[0;34m(\u001b[0m\u001b[0mpath\u001b[0m\u001b[0;34m)\u001b[0m \u001b[0;32mas\u001b[0m \u001b[0mit\u001b[0m\u001b[0;34m:\u001b[0m\u001b[0;34m\u001b[0m\u001b[0;34m\u001b[0m\u001b[0m\n\u001b[0m\u001b[1;32m      8\u001b[0m         \u001b[0;32mfor\u001b[0m \u001b[0mfile\u001b[0m \u001b[0;32min\u001b[0m \u001b[0mit\u001b[0m\u001b[0;34m:\u001b[0m\u001b[0;34m\u001b[0m\u001b[0;34m\u001b[0m\u001b[0m\n\u001b[1;32m      9\u001b[0m             \u001b[0;32mif\u001b[0m \u001b[0mfile\u001b[0m\u001b[0;34m.\u001b[0m\u001b[0mname\u001b[0m\u001b[0;34m.\u001b[0m\u001b[0mendswith\u001b[0m\u001b[0;34m(\u001b[0m\u001b[0;34m'.root'\u001b[0m\u001b[0;34m)\u001b[0m \u001b[0;32mand\u001b[0m \u001b[0;34m(\u001b[0m\u001b[0mfile\u001b[0m\u001b[0;34m.\u001b[0m\u001b[0mstat\u001b[0m\u001b[0;34m(\u001b[0m\u001b[0;34m)\u001b[0m\u001b[0;34m.\u001b[0m\u001b[0mst_size\u001b[0m \u001b[0;34m!=\u001b[0m \u001b[0;36m0\u001b[0m\u001b[0;34m)\u001b[0m\u001b[0;34m:\u001b[0m\u001b[0;34m\u001b[0m\u001b[0;34m\u001b[0m\u001b[0m\n",
      "\u001b[0;31mFileNotFoundError\u001b[0m: [Errno 2] No such file or directory: '/eos/user/k/kmotaama/CRAB_UserFiles/UpsilonToMuMuDstarToD0pi/211111_200135/0000'"
     ]
    }
   ],
   "source": [
    "import re\n",
    "\n",
    "paths = ['/eos/user/k/kmotaama/CRAB_UserFiles/UpsilonToMuMuDstarToD0pi/211111_200135/0000',\n",
    "         '/eos/user/k/kmotaama/CRAB_UserFiles/UpsilonToMuMuDstarToD0pi/211111_200135/0001']\n",
    "files = []\n",
    "for path in paths:\n",
    "    with os.scandir(path) as it:\n",
    "        for file in it:\n",
    "            if file.name.endswith('.root') and (file.stat().st_size != 0):\n",
    "                files.append(file.path)\n",
    "\n",
    "def atoi(text):\n",
    "    return int(text) if text.isdigit() else text\n",
    "\n",
    "def natural_keys(text):\n",
    "    '''\n",
    "    alist.sort(key=natural_keys) sorts in human order\n",
    "    http://nedbatchelder.com/blog/200712/human_sorting.html\n",
    "    (See Toothy's implementation in the comments)\n",
    "    '''\n",
    "    return [ atoi(c) for c in re.split(r'(\\d+)', text) ]\n",
    "            \n",
    "files.sort(key=natural_keys)"
   ]
  },
  {
   "cell_type": "code",
   "execution_count": 11,
   "metadata": {},
   "outputs": [],
   "source": [
    "class GenTestProcessor(processor.ProcessorABC):\n",
    "    def __init__(self):\n",
    "        self._accumulator = processor.dict_accumulator({\n",
    "            'details': processor.defaultdict_accumulator(int),\n",
    "        })\n",
    "\n",
    "    @property\n",
    "    def accumulator(self):\n",
    "        return self._accumulator\n",
    "\n",
    "    def process(self, events):\n",
    "        output = self.accumulator.identity()\n",
    "        \n",
    "        # test if there is any events in the file\n",
    "        if len(events) == 0:\n",
    "            return output\n",
    "\n",
    "        output['details']['n_events'] += len(events)\n",
    "        \n",
    "        # Collection extraction\n",
    "        GenPart = ak.zip({**get_vars_dict(events, gen_part_cols)}, with_name=\"PtEtaPhiMCandidate\")\n",
    "        \n",
    "        GenPart_ups = GenPart[((GenPart.pdgId == 553) | (GenPart.pdgId == 100553) | (GenPart.pdgId == 200553))]\n",
    "        ups_2dau_id = GenPart_ups[GenPart_ups.numberOfDaughters == 2].Id\n",
    "        GenPart_muon = GenPart[np.absolute(GenPart.pdgId) == 13]\n",
    "        GenPart_dstar = GenPart[np.absolute(GenPart.pdgId) == 413]\n",
    "        GenPart_d0 = GenPart[np.absolute(GenPart.pdgId) == 421]\n",
    "\n",
    "        print(f'Starting Event: {events.event[0]}')\n",
    "        for i0 in range(len(GenPart_ups)):\n",
    "            print(f\"Event {i0}:\")\n",
    "            for i1 in range(len(GenPart_ups[i0])):\n",
    "                print(f\"Y: {GenPart_ups[i0][i1].pdgId}, ndaughters: {GenPart_ups[i0][i1].numberOfDaughters}, \", end='')\n",
    "                print(f\"Id: {GenPart_ups[i0][i1].Id}, motherId: {GenPart_ups[i0][i1].genPartIdxMother}, status: {GenPart_ups[i0][i1].status}\")\n",
    "                if GenPart_ups[i0][i1].numberOfDaughters == 2:\n",
    "                    print('2 Daughters!!')\n",
    "                    output['details']['n_upsilon'] += 1\n",
    "            for i1 in range(len(GenPart_muon[i0])):\n",
    "                print(f\"Muon: {GenPart_muon[i0][i1].pdgId}, ndaughters: {GenPart_muon[i0][i1].numberOfDaughters}, \", end='')\n",
    "                print(f\"Id: {GenPart_muon[i0][i1].Id}, motherId: {GenPart_muon[i0][i1].genPartIdxMother}, status: {GenPart_muon[i0][i1].status}\")\n",
    "                if GenPart_muon[i0][i1].genPartIdxMother in ups_2dau_id[i0]:\n",
    "                    print('From Y!!')\n",
    "                    output['details']['n_muon'] += 1\n",
    "                else:\n",
    "                    print('Not from Y :(')\n",
    "            for i1 in range(len(GenPart_dstar[i0])):\n",
    "                print(f\"D*: {GenPart_dstar[i0][i1].pdgId}, ndaughters: {GenPart_dstar[i0][i1].numberOfDaughters}, \", end='')\n",
    "                print(f\"Id: {GenPart_dstar[i0][i1].Id}, motherId: {GenPart_dstar[i0][i1].genPartIdxMother}, status: {GenPart_dstar[i0][i1].status}\")\n",
    "                output['details']['n_dstar'] += 1\n",
    "            for i1 in range(len(GenPart_d0[i0])):\n",
    "                print(f\"D0: {GenPart_d0[i0][i1].pdgId}, ndaughters: {GenPart_d0[i0][i1].numberOfDaughters}, \", end='')\n",
    "                print(f\"Id: {GenPart_d0[i0][i1].Id}, motherId: {GenPart_d0[i0][i1].genPartIdxMother}, status: {GenPart_d0[i0][i1].status}\")\n",
    "                if GenPart_d0[i0][i1].genPartIdxMother in GenPart_dstar[i0].Id:\n",
    "                    print(\"From D*!!\")\n",
    "                    output['details']['n_d0'] += 1\n",
    "                else:\n",
    "                    print('Not from D* :(')\n",
    "            print('')\n",
    "        print(f'Ending Event: {events.event[-1]}')\n",
    "\n",
    "        return output\n",
    "\n",
    "    def postprocess(self, accumulator):\n",
    "        return accumulator"
   ]
  },
  {
   "cell_type": "code",
   "execution_count": 14,
   "metadata": {},
   "outputs": [
    {
     "name": "stderr",
     "output_type": "stream",
     "text": [
      "Preprocessing: 100%|██████████| 1/1 [00:00<00:00, 3163.13file/s]\n"
     ]
    },
    {
     "ename": "TypeError",
     "evalue": "'NoneType' object is not subscriptable",
     "output_type": "error",
     "traceback": [
      "\u001b[0;31m---------------------------------------------------------------------------\u001b[0m",
      "\u001b[0;31mTypeError\u001b[0m                                 Traceback (most recent call last)",
      "\u001b[0;32m/var/folders/st/v3ntbhtj7x5cvm1pj69rgjjm0000gn/T/ipykernel_20561/2108139726.py\u001b[0m in \u001b[0;36m<module>\u001b[0;34m\u001b[0m\n\u001b[1;32m      4\u001b[0m \u001b[0mtstart\u001b[0m \u001b[0;34m=\u001b[0m \u001b[0mtime\u001b[0m\u001b[0;34m.\u001b[0m\u001b[0mtime\u001b[0m\u001b[0;34m(\u001b[0m\u001b[0;34m)\u001b[0m\u001b[0;34m\u001b[0m\u001b[0;34m\u001b[0m\u001b[0m\n\u001b[1;32m      5\u001b[0m \u001b[0;34m\u001b[0m\u001b[0m\n\u001b[0;32m----> 6\u001b[0;31m output = processor.run_uproot_job(data,\n\u001b[0m\u001b[1;32m      7\u001b[0m                                   \u001b[0mtreename\u001b[0m\u001b[0;34m=\u001b[0m\u001b[0;34m'genTuple/Events'\u001b[0m\u001b[0;34m,\u001b[0m\u001b[0;34m\u001b[0m\u001b[0;34m\u001b[0m\u001b[0m\n\u001b[1;32m      8\u001b[0m                                   \u001b[0mprocessor_instance\u001b[0m\u001b[0;34m=\u001b[0m\u001b[0mGenTestProcessor\u001b[0m\u001b[0;34m(\u001b[0m\u001b[0;34m)\u001b[0m\u001b[0;34m,\u001b[0m\u001b[0;34m\u001b[0m\u001b[0;34m\u001b[0m\u001b[0m\n",
      "\u001b[0;32m/opt/homebrew/Caskroom/miniforge/base/envs/OniaOpenCharmRun2ULenv/lib/python3.9/site-packages/coffea/processor/executor.py\u001b[0m in \u001b[0;36mrun_uproot_job\u001b[0;34m(fileset, treename, processor_instance, executor, executor_args, pre_executor, pre_args, chunksize, maxchunks, metadata_cache, dynamic_chunksize)\u001b[0m\n\u001b[1;32m   1223\u001b[0m     \u001b[0mwrapped_out\u001b[0m \u001b[0;34m=\u001b[0m \u001b[0mexecutor\u001b[0m\u001b[0;34m(\u001b[0m\u001b[0mchunks\u001b[0m\u001b[0;34m,\u001b[0m \u001b[0mclosure\u001b[0m\u001b[0;34m,\u001b[0m \u001b[0;32mNone\u001b[0m\u001b[0;34m,\u001b[0m \u001b[0;34m**\u001b[0m\u001b[0mexe_args\u001b[0m\u001b[0;34m)\u001b[0m\u001b[0;34m\u001b[0m\u001b[0;34m\u001b[0m\u001b[0m\n\u001b[1;32m   1224\u001b[0m \u001b[0;34m\u001b[0m\u001b[0m\n\u001b[0;32m-> 1225\u001b[0;31m     \u001b[0mprocessor_instance\u001b[0m\u001b[0;34m.\u001b[0m\u001b[0mpostprocess\u001b[0m\u001b[0;34m(\u001b[0m\u001b[0mwrapped_out\u001b[0m\u001b[0;34m[\u001b[0m\u001b[0;34m\"out\"\u001b[0m\u001b[0;34m]\u001b[0m\u001b[0;34m)\u001b[0m\u001b[0;34m\u001b[0m\u001b[0;34m\u001b[0m\u001b[0m\n\u001b[0m\u001b[1;32m   1226\u001b[0m     \u001b[0;32mif\u001b[0m \u001b[0msavemetrics\u001b[0m \u001b[0;32mand\u001b[0m \u001b[0;32mnot\u001b[0m \u001b[0muse_dataframes\u001b[0m\u001b[0;34m:\u001b[0m\u001b[0;34m\u001b[0m\u001b[0;34m\u001b[0m\u001b[0m\n\u001b[1;32m   1227\u001b[0m         \u001b[0mwrapped_out\u001b[0m\u001b[0;34m[\u001b[0m\u001b[0;34m\"metrics\"\u001b[0m\u001b[0;34m]\u001b[0m\u001b[0;34m[\u001b[0m\u001b[0;34m\"chunks\"\u001b[0m\u001b[0;34m]\u001b[0m \u001b[0;34m=\u001b[0m \u001b[0mlen\u001b[0m\u001b[0;34m(\u001b[0m\u001b[0mchunks\u001b[0m\u001b[0;34m)\u001b[0m\u001b[0;34m\u001b[0m\u001b[0;34m\u001b[0m\u001b[0m\n",
      "\u001b[0;31mTypeError\u001b[0m: 'NoneType' object is not subscriptable"
     ]
    }
   ],
   "source": [
    "data = {\"test\": [\"/afs/cern.ch/work/k/kmotaama/public/analysis/OniaOpenCharmRun2UL/OniaOpenCharmRun2ULMC/CMSSW_10_6_12/src/genTuple/genTuple/test.root\"]}\n",
    "# data = {\"test\": files[:200]}\n",
    "\n",
    "tstart = time.time()\n",
    "\n",
    "output = processor.run_uproot_job(data,\n",
    "                                  treename='genTuple/Events',\n",
    "                                  processor_instance=GenTestProcessor(),\n",
    "                                  executor=processor.iterative_executor,\n",
    "                                  executor_args={\"schema\": BaseSchema, 'workers': 8, 'skipbadfiles': True},\n",
    "                                  chunksize=360000,\n",
    "                                  )\n",
    "\n",
    "print(f\"Process finished in: {time.time() - tstart:.2f} s\")\n",
    "#print(output['cutflow'])"
   ]
  },
  {
   "cell_type": "code",
   "execution_count": 7,
   "metadata": {},
   "outputs": [
    {
     "ename": "NameError",
     "evalue": "name 'output' is not defined",
     "output_type": "error",
     "traceback": [
      "\u001b[0;31m---------------------------------------------------------------------------\u001b[0m",
      "\u001b[0;31mNameError\u001b[0m                                 Traceback (most recent call last)",
      "\u001b[0;32m/var/folders/st/v3ntbhtj7x5cvm1pj69rgjjm0000gn/T/ipykernel_20561/4201221482.py\u001b[0m in \u001b[0;36m<module>\u001b[0;34m\u001b[0m\n\u001b[0;32m----> 1\u001b[0;31m \u001b[0mprint\u001b[0m\u001b[0;34m(\u001b[0m\u001b[0moutput\u001b[0m\u001b[0;34m)\u001b[0m\u001b[0;34m\u001b[0m\u001b[0;34m\u001b[0m\u001b[0m\n\u001b[0m",
      "\u001b[0;31mNameError\u001b[0m: name 'output' is not defined"
     ]
    }
   ],
   "source": [
    "print(output)"
   ]
  },
  {
   "cell_type": "code",
   "execution_count": 18,
   "metadata": {},
   "outputs": [
    {
     "name": "stdout",
     "output_type": "stream",
     "text": [
      "ls: /afs/cern.ch/work/k/kmotaama/public/analysis/OniaOpenCharmRun2UL/OniaOpenCharmRun2ULMC/CMSSW_10_6_12/src/genTuple/: No such file or directory\n"
     ]
    }
   ],
   "source": [
    "!ls /afs/cern.ch/work/k/kmotaama/public/analysis/OniaOpenCharmRun2UL/OniaOpenCharmRun2ULMC/CMSSW_10_6_12/src/genTuple/"
   ]
  },
  {
   "cell_type": "code",
   "execution_count": 2,
   "metadata": {},
   "outputs": [],
   "source": [
    "corrections = ak.Array([0.1, 0.2, 0.3, 0.4, 0.5, 0.6])\n",
    "Upsilons = ak.Array([[1,2],[3],[4,5,6],[],[7],[8,9]])"
   ]
  },
  {
   "cell_type": "code",
   "execution_count": 9,
   "metadata": {},
   "outputs": [
    {
     "name": "stdout",
     "output_type": "stream",
     "text": [
      "0.1 1\n",
      "0.1 2\n",
      "0.2 3\n",
      "0.3 4\n",
      "0.3 5\n",
      "0.3 6\n",
      "0.5 7\n",
      "0.6 8\n",
      "0.6 9\n"
     ]
    }
   ],
   "source": [
    "nUpsilon = ak.num(Upsilons)\n",
    "correcto = np.repeat(corrections, nUpsilon)\n",
    "\n",
    "for i, c in enumerate(correcto):\n",
    "    print(c, ak.flatten(Upsilons)[i])"
   ]
  },
  {
   "cell_type": "code",
   "execution_count": null,
   "metadata": {},
   "outputs": [],
   "source": []
  }
 ],
 "metadata": {
  "kernelspec": {
   "display_name": "Python 3",
   "language": "python",
   "name": "python3"
  },
  "language_info": {
   "codemirror_mode": {
    "name": "ipython",
    "version": 3
   },
   "file_extension": ".py",
   "mimetype": "text/x-python",
   "name": "python",
   "nbconvert_exporter": "python",
   "pygments_lexer": "ipython3",
   "version": "3.9.7"
  }
 },
 "nbformat": 4,
 "nbformat_minor": 4
}
