{
 "cells": [
  {
   "cell_type": "code",
   "execution_count": 1,
   "id": "350ccb02-e84c-4664-a1ec-51e5e9adee9f",
   "metadata": {},
   "outputs": [],
   "source": [
    "from coffea.util import load\n",
    "import numpy as np\n",
    "import uproot3\n",
    "from tqdm import tqdm\n",
    "from pprint import pprint\n",
    "import gc\n",
    "\n",
    "#path = '/eos/user/k/kmotaama/MuOniaRun17E/'\n",
    "#file = path + 'MuOniaRun17E.coffea'\n",
    "    \n",
    "#acc = load(file)"
   ]
  },
  {
   "cell_type": "code",
   "execution_count": 2,
   "id": "9d8703c8-ce78-4bda-8c1e-40f9c904c862",
   "metadata": {},
   "outputs": [],
   "source": [
    "import os\n",
    "\n",
    "ERAS = ['B', 'C', 'D', 'E', 'F']\n",
    "\n",
    "path = '/eos/user/k/kmotaama/'\n",
    "files = {}\n",
    "\n",
    "for era in ERAS:\n",
    "    with os.scandir(path + f'MuOniaRun2017{era}_output') as it:\n",
    "        file_array = []\n",
    "        for file in it:\n",
    "            if file.name.endswith('.coffea') and file.name.find('hists') == -1:\n",
    "                file_array.append(file.path)\n",
    "        files[era] = file_array"
   ]
  },
  {
   "cell_type": "code",
   "execution_count": 3,
   "id": "0d05a455-c9bd-4b5a-b496-e63f9731a5ee",
   "metadata": {},
   "outputs": [],
   "source": [
    "def load_acc(file_list):\n",
    "    acc = load(file_list[0])\n",
    "    for i in tqdm(file_list[1:], desc=\"Loading\", unit=\" files\", total=(len(file_list)-1)):\n",
    "        acc += load(i)\n",
    "    return acc"
   ]
  },
  {
   "cell_type": "code",
   "execution_count": 4,
   "id": "de4782a9-a6b5-41fc-92c3-43212f1e370e",
   "metadata": {},
   "outputs": [],
   "source": [
    "def create_ttree(acc, name):\n",
    "    Upsilon_mass = acc['Dimu']['mass'].value[acc['Dimu']['is_ups'].value]\n",
    "\n",
    "    with uproot3.recreate(path + name + \"_Upsilon_mass.root\") as f:\n",
    "        f['Upsilon'] = uproot3.newtree({\"mass\": \"float64\"})\n",
    "        f['Upsilon'].extend({\"mass\": Upsilon_mass})\n",
    "        \n",
    "    D0_mass12 = acc['D0']['mass12'].value\n",
    "    D0_mass21 = acc['D0']['mass21'].value\n",
    "\n",
    "    with uproot3.recreate(path + name + \"_D0_mass12.root\") as f:\n",
    "        f['D012'] = uproot3.newtree({\"mass\": \"float64\"})\n",
    "        f['D012'].extend({\"mass\": D0_mass12})\n",
    "\n",
    "    with uproot3.recreate(path + name + \"_D0_mass21.root\") as f:\n",
    "        f['D021'] = uproot3.newtree({\"mass\": \"float64\"})\n",
    "        f['D021'].extend({\"mass\": D0_mass21})\n",
    "    \n",
    "    Dstar_deltamr = acc['Dstar']['deltamr'].value[~acc['Dstar']['wrg_chg'].value]\n",
    "\n",
    "    with uproot3.recreate(path + name + \"_Dstar_deltamr.root\") as f:\n",
    "        f['Dstar'] = uproot3.newtree({\"deltam\": \"float64\"})\n",
    "        f['Dstar'].extend({\"deltam\": Dstar_deltamr})\n",
    "        \n",
    "    UpsilonDstar = acc['DimuDstar']\n",
    "    Upsilon = UpsilonDstar['Dimu']['mass'].value[UpsilonDstar['Dimu']['is_ups'].value & ~UpsilonDstar['Dstar']['wrg_chg'].value]\n",
    "    Dstar = UpsilonDstar['Dstar']['deltamr'].value[UpsilonDstar['Dimu']['is_ups'].value & ~UpsilonDstar['Dstar']['wrg_chg'].value]\n",
    "\n",
    "    with uproot3.recreate(path + name + \"_UpsilonDstar.root\") as f:\n",
    "        f['UpsilonDstar'] = uproot3.newtree({\"upsilon_mass\": \"float64\",\n",
    "                                             \"dstar_deltam\": \"float64\"})\n",
    "        f['UpsilonDstar'].extend({\"upsilon_mass\": Upsilon,\n",
    "                                  \"dstar_deltam\": Dstar})\n",
    "    \n",
    "    "
   ]
  },
  {
   "cell_type": "code",
   "execution_count": 5,
   "id": "6287538b-0a51-48f2-9f4b-388519853ee9",
   "metadata": {},
   "outputs": [
    {
     "name": "stdout",
     "output_type": "stream",
     "text": [
      "Loading era B:\n"
     ]
    },
    {
     "name": "stderr",
     "output_type": "stream",
     "text": [
      "Loading: 100%|██████████| 61/61 [01:04<00:00,  1.06s/ files]\n"
     ]
    },
    {
     "name": "stdout",
     "output_type": "stream",
     "text": [
      "Creating TTrees at: /eos/user/k/kmotaama/MuOniaRun2017B_output\n",
      "Loading era C:\n"
     ]
    },
    {
     "name": "stderr",
     "output_type": "stream",
     "text": [
      "Loading: 100%|██████████| 164/164 [07:47<00:00,  2.85s/ files]\n"
     ]
    },
    {
     "name": "stdout",
     "output_type": "stream",
     "text": [
      "Creating TTrees at: /eos/user/k/kmotaama/MuOniaRun2017C_output\n",
      "Loading era D:\n"
     ]
    },
    {
     "name": "stderr",
     "output_type": "stream",
     "text": [
      "Loading: 100%|██████████| 77/77 [01:26<00:00,  1.12s/ files]\n"
     ]
    },
    {
     "name": "stdout",
     "output_type": "stream",
     "text": [
      "Creating TTrees at: /eos/user/k/kmotaama/MuOniaRun2017D_output\n",
      "Loading era E:\n"
     ]
    },
    {
     "name": "stderr",
     "output_type": "stream",
     "text": [
      "Loading: 100%|██████████| 201/201 [09:44<00:00,  2.91s/ files]\n"
     ]
    },
    {
     "name": "stdout",
     "output_type": "stream",
     "text": [
      "Creating TTrees at: /eos/user/k/kmotaama/MuOniaRun2017E_output\n",
      "Loading era F:\n"
     ]
    },
    {
     "name": "stderr",
     "output_type": "stream",
     "text": [
      "Loading: 100%|██████████| 263/263 [12:48<00:00,  2.92s/ files]\n"
     ]
    },
    {
     "name": "stdout",
     "output_type": "stream",
     "text": [
      "Creating TTrees at: /eos/user/k/kmotaama/MuOniaRun2017F_output\n"
     ]
    }
   ],
   "source": [
    "for era in files:\n",
    "    print(f\"Loading era {era}:\")\n",
    "    acc = load_acc(files[era])\n",
    "    print(\"Creating TTrees at: \"+ path + \"MuOniaRun2017\" + era + \"_output\")\n",
    "    name = \"MuOniaRun2017\" + era + \"_output/MuOniaRun2017\" + era\n",
    "    create_ttree(acc, name)\n",
    "    del acc\n",
    "    gc.collect()\n"
   ]
  },
  {
   "cell_type": "code",
   "execution_count": 2,
   "id": "hindu-indian",
   "metadata": {},
   "outputs": [],
   "source": [
    "Upsilon_mass = acc['Dimu']['mass'].value[acc['Dimu']['is_ups'].value]\n",
    "\n",
    "with uproot3.recreate(path + \"MuOniaRun17E_Upsilon_mass.root\") as f:\n",
    "    f['Upsilon'] = uproot3.newtree({\"mass\": \"float64\"})\n",
    "    f['Upsilon'].extend({\"mass\": Upsilon_mass})\n",
    "    "
   ]
  },
  {
   "cell_type": "code",
   "execution_count": 4,
   "id": "nutritional-atlas",
   "metadata": {},
   "outputs": [],
   "source": [
    "D0_mass12 = acc['D0']['mass12'].value\n",
    "D0_mass21 = acc['D0']['mass21'].value\n",
    "\n",
    "with uproot3.recreate(path + \"MuOniaRun17E_D0_mass12.root\") as f:\n",
    "    f['D012'] = uproot3.newtree({\"mass\": \"float64\"})\n",
    "    f['D012'].extend({\"mass\": D0_mass12})\n",
    "    \n",
    "with uproot3.recreate(path + \"MuOniaRun17E_D0_mass21.root\") as f:\n",
    "    f['D021'] = uproot3.newtree({\"mass\": \"float64\"})\n",
    "    f['D021'].extend({\"mass\": D0_mass21})"
   ]
  },
  {
   "cell_type": "code",
   "execution_count": 5,
   "id": "cathedral-attack",
   "metadata": {},
   "outputs": [],
   "source": [
    "Dstar_deltamr = acc['Dstar']['deltamr'].value[~acc['Dstar']['wrg_chg'].value]\n",
    "\n",
    "with uproot3.recreate(path + \"MuOniaRun17E_Dstar_deltamr.root\") as f:\n",
    "    f['Dstar'] = uproot3.newtree({\"deltam\": \"float64\"})\n",
    "    f['Dstar'].extend({\"deltam\": Dstar_deltamr})"
   ]
  },
  {
   "cell_type": "code",
   "execution_count": 8,
   "id": "visible-aside",
   "metadata": {},
   "outputs": [],
   "source": [
    "UpsilonDstar = acc['DimuDstar']\n",
    "Upsilon = UpsilonDstar['Dimu']['mass'].value[UpsilonDstar['Dimu']['is_ups'].value & ~UpsilonDstar['Dstar']['wrg_chg'].value]\n",
    "Dstar = UpsilonDstar['Dstar']['deltamr'].value[UpsilonDstar['Dimu']['is_ups'].value & ~UpsilonDstar['Dstar']['wrg_chg'].value]\n",
    "\n",
    "with uproot3.recreate(path + \"MuOniaRun17E_UpsilonDstar.root\") as f:\n",
    "    f['UpsilonDstar'] = uproot3.newtree({\"upsilon_mass\": \"float64\",\n",
    "                                         \"dstar_deltam\": \"float64\"})\n",
    "    f['UpsilonDstar'].extend({\"upsilon_mass\": Upsilon,\n",
    "                              \"dstar_deltam\": Dstar})"
   ]
  },
  {
   "cell_type": "code",
   "execution_count": 9,
   "id": "numerous-prescription",
   "metadata": {},
   "outputs": [],
   "source": []
  },
  {
   "cell_type": "code",
   "execution_count": null,
   "id": "compatible-spotlight",
   "metadata": {},
   "outputs": [],
   "source": []
  }
 ],
 "metadata": {
  "kernelspec": {
   "display_name": "Python 3",
   "language": "python",
   "name": "python3"
  },
  "language_info": {
   "codemirror_mode": {
    "name": "ipython",
    "version": 3
   },
   "file_extension": ".py",
   "mimetype": "text/x-python",
   "name": "python",
   "nbconvert_exporter": "python",
   "pygments_lexer": "ipython3",
   "version": "3.8.0"
  }
 },
 "nbformat": 4,
 "nbformat_minor": 5
}
